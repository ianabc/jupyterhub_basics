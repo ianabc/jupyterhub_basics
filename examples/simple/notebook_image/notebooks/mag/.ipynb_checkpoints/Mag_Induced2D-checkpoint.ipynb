{
 "cells": [
  {
   "cell_type": "markdown",
   "metadata": {
    "extensions": {
     "jupyter_dashboards": {
      "version": 1,
      "views": {
       "grid_default": {
        "col": 0,
        "height": 11,
        "hidden": false,
        "row": 0,
        "width": 12
       },
       "report_default": {
        "hidden": false
       }
      }
     }
    }
   },
   "source": [
    "This is the <a href=\"https://jupyter.org/\">Jupyter Notebook</a>, an interactive coding and computation environment. For this lab, you do not have to write any code, you will only be running it. \n",
    "\n",
    "To use the notebook:\n",
    "- \"Shift + Enter\" runs the code within the cell (so does the forward arrow button near the top of the document)\n",
    "- You can alter variables and re-run cells\n",
    "- If you want to start with a clean slate, restart the Kernel either by going to the top, clicking on Kernel: Restart, or by \"esc + 00\" (if you do this, you will need to re-run the following block of code before running any other cells in the notebook) \n",
    "\n",
    "This notebook uses code adapted from \n",
    "\n",
    "SimPEG\n",
    "- Cockett, R., S. Kang, L.J. Heagy, A. Pidlisecky, D.W. Oldenburg (2015, in review), SimPEG: An open source framework for simulation and gradient based parameter estimation in geophysical applications. Computers and Geosciences"
   ]
  },
  {
   "cell_type": "code",
   "execution_count": 1,
   "metadata": {
    "extensions": {
     "jupyter_dashboards": {
      "version": 1,
      "views": {
       "grid_default": {
        "col": 0,
        "height": 3,
        "hidden": true,
        "row": 11,
        "width": 12
       },
       "report_default": {
        "hidden": true
       }
      }
     }
    }
   },
   "outputs": [],
   "source": [
    "import numpy as np\n",
    "from geoscilabs.mag import Mag, Simulator\n",
    "from SimPEG import PF, Utils, Mesh\n",
    "%matplotlib inline"
   ]
  },
  {
   "cell_type": "markdown",
   "metadata": {
    "extensions": {
     "jupyter_dashboards": {
      "version": 1,
      "views": {
       "grid_default": {
        "col": 0,
        "height": 21,
        "hidden": false,
        "row": 22,
        "width": null
       },
       "report_default": {
        "hidden": false
       }
      }
     }
    }
   },
   "source": [
    "# How do we define direction of an earth magnetic field?\n",
    "\n",
    "Earth magnetic field is a vector. To define a vector we need to choose a coordinate system. We use right-handed system: \n",
    "- X (Easting), \n",
    "- Y (Northing), and \n",
    "- Z (Up). \n",
    "\n",
    "Here we consider an earth magnetic field ($\\vec{B_0}$), of which intensity is one. To define this unit vector, we use inclinatino and declination:\n",
    "- Declination: An angle from geographic North (Ng) (positive clockwise)\n",
    "- Inclination: Vertical angle from the N-E plane (positive down)\n",
    "\n",
    "<img src=\"https://github.com/geoscixyz/geosci-labs/raw/master/images/mag/earthfield.png?raw=true\" style=\"width: 60%; height: 60%\"> </img>"
   ]
  },
  {
   "cell_type": "markdown",
   "metadata": {
    "extensions": {
     "jupyter_dashboards": {
      "version": 1,
      "views": {
       "grid_default": {
        "col": 0,
        "height": 18,
        "hidden": false,
        "row": 43,
        "width": null
       },
       "report_default": {
        "hidden": false
       }
      }
     }
    }
   },
   "source": [
    "# What's data: total field anomaly\n",
    "\n",
    "We consider a typical form of magnetic data. To illustrate this we consider an suceptible object embedded in the earth. \n",
    "Based upon the earth magnetic field ($\\vec{B}_0$), this object will generate anomalous magnetic field ($\\vec{B}_A$). We define an unit vector $\\hat{B}_0$ for the earth field as \n",
    "$$ \\hat{B}_0 = \\frac{\\vec{B}_0}{|\\vec{B}_0|}$$ \n",
    "We measure both earth and anomalous magnetic field such that\n",
    "\n",
    "$$ \\vec{B} = \\vec{B}_0 + \\vec{B}_A$$\n",
    "\n",
    "Total field anomaly, $\\triangle \\vec{B}$ can be defined as\n",
    "\n",
    "$$  |\\triangle \\vec{B}| = |\\vec{B}|-|\\vec{B}_E| $$ \n",
    "\n",
    "If $|\\vec{B}|\\ll|\\vec{B}_E|$, then that is total field anomaly $\\triangle \\vec{B}$ is the projection of the anomalous field onto the direction of the earth field:\n",
    "\n",
    "$$ |\\triangle \\vec{B}| \\simeq \\vec{B}_A \\cdot \\hat{B}_0=|\\vec{B}_A|cos\\theta$$ \n",
    "\n",
    "<img src=\"https://github.com/geoscixyz/geosci-labs/raw/master/images/mag/totalfieldanomaly.png?raw=true\" style=\"width: 50%; height: 50%\">"
   ]
  },
  {
   "cell_type": "markdown",
   "metadata": {
    "extensions": {
     "jupyter_dashboards": {
      "version": 1,
      "views": {
       "grid_default": {
        "col": 0,
        "height": 11,
        "hidden": false,
        "row": 11,
        "width": 6
       },
       "report_default": {
        "hidden": false
       }
      }
     }
    }
   },
   "source": [
    "# Define a 3D prism\n",
    "Our model is a rectangular prism. Parameters to define this prism are given below:\n",
    "\n",
    "- dx: length in Easting (x) direction (meter)\n",
    "- dy: length in Northing (y) direction (meter)\n",
    "- dz: length in Depth (z) direction (meter) below the receiver\n",
    "- depth: top boundary of the prism (meter)\n",
    "- pinc: inclination of the prism (reference is a unit northing vector; degree)\n",
    "- pdec: declination of the prism (reference is a unit northing vector; degree)\n",
    "\n",
    "You can also change the height of the survey grid above the ground\n",
    "- rx_h: height of the grid (meter)\n",
    "\n",
    "*Green dots show a plane where we measure data.*"
   ]
  },
  {
   "cell_type": "code",
   "execution_count": 2,
   "metadata": {
    "extensions": {
     "jupyter_dashboards": {
      "version": 1,
      "views": {
       "grid_default": {
        "col": 0,
        "height": 28,
        "hidden": false,
        "row": 61,
        "width": 6
       },
       "report_default": {
        "hidden": true
       }
      }
     }
    }
   },
   "outputs": [
    {
     "data": {
      "application/vnd.jupyter.widget-view+json": {
       "model_id": "1c8c2317ec48426f809da9604fc974f0",
       "version_major": 2,
       "version_minor": 0
      },
      "text/plain": [
       "interactive(children=(FloatSlider(value=557366.1875, continuous_update=False, description='East', max=558589.8…"
      ]
     },
     "metadata": {},
     "output_type": "display_data"
    },
    {
     "data": {
      "image/png": "[encoded data removed]",
      "text/plain": [
       "<Figure size 432x648 with 1 Axes>"
      ]
     },
     "metadata": {
      "needs_background": "light"
     },
     "output_type": "display_data"
    }
   ],
   "source": [
    "#Input parameters\n",
    "fileName = 'https://github.com/geoscixyz/geosci-labs/raw/master/assets/mag/data/DO27_TMI.dat'\n",
    "xyzd = np.genfromtxt(fileName, skip_header=3)\n",
    "B = np.r_[60308, 83.8, 25.4]\n",
    "survey = Mag.createMagSurvey(xyzd, B)\n",
    "# View the data and chose a profile\n",
    "param = Simulator.ViewMagSurvey2D(survey)\n",
    "display(param)"
   ]
  },
  {
   "cell_type": "code",
   "execution_count": 3,
   "metadata": {},
   "outputs": [],
   "source": [
    "param.result"
   ]
  },
  {
   "cell_type": "code",
   "execution_count": 4,
   "metadata": {},
   "outputs": [
    {
     "ename": "AttributeError",
     "evalue": "'NoneType' object has no attribute 'srcField'",
     "output_type": "error",
     "traceback": [
      "\u001b[0;31m---------------------------------------------------------------------------\u001b[0m",
      "\u001b[0;31mAttributeError\u001b[0m                            Traceback (most recent call last)",
      "\u001b[0;32m<ipython-input-4-7d101a3d3b15>\u001b[0m in \u001b[0;36m<module>\u001b[0;34m\u001b[0m\n\u001b[1;32m      1\u001b[0m \u001b[0;31m# Define the parametric model interactively\u001b[0m\u001b[0;34m\u001b[0m\u001b[0;34m\u001b[0m\u001b[0;34m\u001b[0m\u001b[0m\n\u001b[0;32m----> 2\u001b[0;31m \u001b[0mmodel\u001b[0m \u001b[0;34m=\u001b[0m \u001b[0mSimulator\u001b[0m\u001b[0;34m.\u001b[0m\u001b[0mViewPrism\u001b[0m\u001b[0;34m(\u001b[0m\u001b[0mparam\u001b[0m\u001b[0;34m.\u001b[0m\u001b[0mresult\u001b[0m\u001b[0;34m)\u001b[0m\u001b[0;34m\u001b[0m\u001b[0;34m\u001b[0m\u001b[0m\n\u001b[0m\u001b[1;32m      3\u001b[0m \u001b[0mdisplay\u001b[0m\u001b[0;34m(\u001b[0m\u001b[0mmodel\u001b[0m\u001b[0;34m)\u001b[0m\u001b[0;34m\u001b[0m\u001b[0;34m\u001b[0m\u001b[0m\n",
      "\u001b[0;32m~/a50037/envs/geosci-labs/lib/python3.7/site-packages/geoscilabs/mag/Simulator.py\u001b[0m in \u001b[0;36mViewPrism\u001b[0;34m(survey)\u001b[0m\n\u001b[1;32m    472\u001b[0m         \u001b[0;32mreturn\u001b[0m \u001b[0mprism\u001b[0m\u001b[0;34m\u001b[0m\u001b[0;34m\u001b[0m\u001b[0m\n\u001b[1;32m    473\u001b[0m \u001b[0;34m\u001b[0m\u001b[0m\n\u001b[0;32m--> 474\u001b[0;31m     \u001b[0mrxLoc\u001b[0m \u001b[0;34m=\u001b[0m \u001b[0msurvey\u001b[0m\u001b[0;34m.\u001b[0m\u001b[0msrcField\u001b[0m\u001b[0;34m.\u001b[0m\u001b[0mrxList\u001b[0m\u001b[0;34m[\u001b[0m\u001b[0;36m0\u001b[0m\u001b[0;34m]\u001b[0m\u001b[0;34m.\u001b[0m\u001b[0mlocs\u001b[0m\u001b[0;34m\u001b[0m\u001b[0;34m\u001b[0m\u001b[0m\n\u001b[0m\u001b[1;32m    475\u001b[0m     \u001b[0mcntr\u001b[0m \u001b[0;34m=\u001b[0m \u001b[0mnp\u001b[0m\u001b[0;34m.\u001b[0m\u001b[0mmean\u001b[0m\u001b[0;34m(\u001b[0m\u001b[0mrxLoc\u001b[0m\u001b[0;34m[\u001b[0m\u001b[0;34m:\u001b[0m\u001b[0;34m,\u001b[0m \u001b[0;34m:\u001b[0m\u001b[0;36m2\u001b[0m\u001b[0;34m]\u001b[0m\u001b[0;34m,\u001b[0m \u001b[0maxis\u001b[0m\u001b[0;34m=\u001b[0m\u001b[0;36m0\u001b[0m\u001b[0;34m)\u001b[0m\u001b[0;34m\u001b[0m\u001b[0;34m\u001b[0m\u001b[0m\n\u001b[1;32m    476\u001b[0m \u001b[0;34m\u001b[0m\u001b[0m\n",
      "\u001b[0;31mAttributeError\u001b[0m: 'NoneType' object has no attribute 'srcField'"
     ]
    }
   ],
   "source": [
    "# Define the parametric model interactively\n",
    "model = Simulator.ViewPrism(param.result)\n",
    "display(model)"
   ]
  },
  {
   "cell_type": "markdown",
   "metadata": {
    "extensions": {
     "jupyter_dashboards": {
      "version": 1,
      "views": {
       "grid_default": {
        "col": 6,
        "height": 11,
        "hidden": false,
        "row": 11,
        "width": 6
       },
       "report_default": {
        "hidden": false
       }
      }
     }
    }
   },
   "source": [
    "# Magnetic applet\n",
    "Based on the prism that you made above, below Magnetic applet computes magnetic field at receiver locations, and provide both 2D map (left) and profile line (right). \n",
    "\n",
    "For the prism, you can alter:\n",
    "- sus: susceptibility of the prism\n",
    "\n",
    "Parameters for the earth field are:\n",
    "- Einc: inclination of the earth field (degree)\n",
    "- Edec: declination of the earth field (degree)\n",
    "- Bigrf: intensity of the earth field (nT)\n",
    "\n",
    "For data, you can view:\n",
    "- tf: total field anomaly,  \n",
    "- bx :x-component, \n",
    "- by :y-component, \n",
    "- bz :z-component\n",
    "\n",
    "You can simulate and view remanent magnetization effect with parameters:\n",
    "- irt: \"induced\", \"remanent\", or \"total\"\n",
    "- Q: Koenigsberger ratio ($\\frac{M_{rem}}{M_{ind}}$)\n",
    "- rinc: inclination of the remanent magnetization (degree)\n",
    "- rdec: declination of the remanent magnetization (degree)\n"
   ]
  },
  {
   "cell_type": "code",
   "execution_count": null,
   "metadata": {
    "extensions": {
     "jupyter_dashboards": {
      "version": 1,
      "views": {
       "grid_default": {
        "col": 6,
        "height": 28,
        "hidden": false,
        "row": 61,
        "width": 6
       },
       "report_default": {
        "hidden": true
       }
      }
     }
    }
   },
   "outputs": [],
   "source": [
    "plotwidget = Simulator.PFSimulator(model, param)\n",
    "display(plotwidget)"
   ]
  },
  {
   "cell_type": "code",
   "execution_count": null,
   "metadata": {},
   "outputs": [],
   "source": []
  }
 ],
 "metadata": {
  "anaconda-cloud": {},
  "extensions": {
   "jupyter_dashboards": {
    "activeView": "report_default",
    "version": 1,
    "views": {
     "grid_default": {
      "cellMargin": 10,
      "defaultCellHeight": 20,
      "maxColumns": 12,
      "name": "grid",
      "type": "grid"
     },
     "report_default": {
      "name": "report",
      "type": "report"
     }
    }
   }
  },
  "jupytext": {
   "cell_metadata_filter": "all",
   "notebook_metadata_filter": "all,-toc,-latex_envs"
  },
  "kernelspec": {
   "display_name": "Python 3",
   "language": "python",
   "name": "python3"
  },
  "language_info": {
   "codemirror_mode": {
    "name": "ipython",
    "version": 3
   },
   "file_extension": ".py",
   "mimetype": "text/x-python",
   "name": "python",
   "nbconvert_exporter": "python",
   "pygments_lexer": "ipython3",
   "version": "3.7.6"
  },
  "widgets": {
   "state": {
    "2c77e5c891dd44069234331d87475ef2": {
     "views": [
      {
       "cell_index": 5
      }
     ]
    }
   },
   "version": "1.2.0"
  }
 },
 "nbformat": 4,
 "nbformat_minor": 1
}
