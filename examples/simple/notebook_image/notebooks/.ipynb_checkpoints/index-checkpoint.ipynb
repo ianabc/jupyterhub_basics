{
 "cells": [
  {
   "cell_type": "markdown",
   "metadata": {},
   "source": [
    "# GPG Labs\n",
    "\n",
    "<a href=\"http://gpg.geosci.xyz\"><img src=\"http://gpg.geosci.xyz/_images/intro.png\" alt=\"http://gpg.geosci.xyz\" align=\"right\" width=\"200\"></a>\n",
    "\n",
    "This collection of notebooks covers basic principles of applied geophysics. Associated material can be found in the <a href=\"http://gpg.geosci.xyz\">GPG: Geophysics for Practicing Geoscientists</a>.\n",
    "\n",
    "\n",
    "\n",
    "If you have feedback, we would like to hear from you! \n",
    "- <a href=\"http://slack.geosci.xyz/\">Contact us</a>\n",
    "- <a href=\"https://github.com/ubcgif/gpgLabs/issues\">Report issues</a>\n",
    "- <a href=\"https://github.com/ubcgif/gpgLabs/\">Join the development</a>"
   ]
  },
  {
   "cell_type": "markdown",
   "metadata": {},
   "source": [
    "## Contents\n",
    "\n",
    "### Magnetics\n",
    "- [MagneticDipoleApplet.ipynb](mag/MagneticDipoleApplet.ipynb) - Magnetic dipole applet\n",
    "- [MagneticPrismApplet.ipynb](mag/MagneticPrismApplet.ipynb) - Magnetic prism applet\n",
    "- [Mag_Induced2D.ipynb](mag/Mag_Induced2D.ipynb)- Induced magnetic anomaly demo\n",
    "- [Mag_FitProfile.ipynb](mag/Mag_FitProfile.ipynb)- Fit one magnetic profile from field observation\n",
    "\n",
    "### Seismic\n",
    "- [SeismicApplet.ipynb](seismic/SeismicApplet.ipynb) - Seismic Applet\n",
    "- [Seis_Refraction.ipynb](seismic/Seis_Refraction.ipynb) - Seismic refraction survey demo\n",
    "- [Seis_Reflection.ipynb](seismic/Seis_Reflection.ipynb) - Synthetic reflection seismogram\n",
    "- [Seis_NMO.ipynb](seismic/Seis_NMO.ipynb) - Normal moveout demo\n",
    "- [Seis_VerticalResolution.ipynb](seismic/Seis_VerticalResolution.ipynb) - Vertical resolution in reflection\n",
    "\n",
    "### Ground Penetrating Radar\n",
    "- [GPR_TBL4_DOI_Resolution.ipynb](gpr/GPR_TBL4_DOI_Resolution.ipynb) - Horizontal resolution + Probing distance of GPR\n",
    "- [GPR_Lab6_FitData.ipynb](gpr/GPR_Lab6_FitData.ipynb) - Fit field GPR data\n",
    "- [GPR_Attenuation.ipynb](gpr/GPR_Attenuation.ipynb) - Explore the impact of electrical conductivity on attenuation of signals\n",
    "\n",
    "### Electromagnetics\n",
    "- [InductionRLcircuit_Harmonic.ipynb](em/InductionRLcircuit_Harmonic.ipynb) - Two coil app\n",
    "- [FDEM_ThreeLoopModel.ipynb](em/FDEM_ThreeLoopModel.ipynb) - EM induction explained by a 3-loop circuit model\n",
    "- [EM_Pipeline.ipynb](em/EM_Pipeline.ipynb) - EM response over a pipeline\n",
    "- [EM_EM31.ipynb](em/EM_EM31.ipynb) - EM-31 response and apparent conductivity\n",
    "\n",
    "### Direct Current Resistivity\n",
    "- [DC_SurveyDataInversion.ipynb](dcip/DC_SurveyDataInversion.ipynb) - Physics, survey, data and interpretation"
   ]
  },
  {
   "cell_type": "markdown",
   "metadata": {},
   "source": [
    "<center><a rel=\"license\" href=\"http://creativecommons.org/licenses/by/4.0/\"><img alt=\"Creative Commons License\" style=\"border-width:0\" width=60 src=\"https://i.creativecommons.org/l/by/4.0/88x31.png\" /></a> \n",
    "\n",
    "This work is licensed under a <a rel=\"license\" href=\"http://creativecommons.org/licenses/by/4.0/\">Creative Commons Attribution 4.0 International License</a>.</center>"
   ]
  },
  {
   "cell_type": "code",
   "execution_count": 1,
   "metadata": {},
   "outputs": [],
   "source": [
    "# !pip install -r ../requirements.txt"
   ]
  }
 ],
 "metadata": {
  "anaconda-cloud": {},
  "jupytext": {
   "cell_metadata_filter": "all",
   "notebook_metadata_filter": "all,-toc,-latex_envs"
  },
  "kernelspec": {
   "display_name": "Python 3",
   "language": "python",
   "name": "python3"
  },
  "language_info": {
   "codemirror_mode": {
    "name": "ipython",
    "version": 3
   },
   "file_extension": ".py",
   "mimetype": "text/x-python",
   "name": "python",
   "nbconvert_exporter": "python",
   "pygments_lexer": "ipython3",
   "version": "3.7.6"
  }
 },
 "nbformat": 4,
 "nbformat_minor": 1
}
